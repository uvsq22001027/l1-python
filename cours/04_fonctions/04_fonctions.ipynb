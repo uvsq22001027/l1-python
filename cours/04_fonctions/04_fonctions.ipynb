{
 "cells": [
  {
   "cell_type": "markdown",
   "metadata": {
    "slideshow": {
     "slide_type": "slide"
    }
   },
   "source": [
    "# Cours 4 : les fonctions en Python"
   ]
  },
  {
   "cell_type": "markdown",
   "metadata": {
    "slideshow": {
     "slide_type": "slide"
    }
   },
   "source": [
    "## 0. Écriture de programme\n",
    "\n",
    "Jusqu'à maintenant on a écrit seulement quelques lignes de Python avec évaluation\n",
    "immédiate de leur effet. Nous allons maintenant écrire des *scripts* ou *programmes*, qui sont plus long et dépendent éventuellement d'arguments fournis au lancement du programme.\n",
    "\n",
    "Pour cela, nous allons utiliser un éditeur de texte (VS Code) et un interpréteur Python (celui qui est lié à VS Code mais qui peut également être appelé depuis le terminal).\n",
    "\n",
    "**Démonstration des outils**"
   ]
  },
  {
   "cell_type": "markdown",
   "metadata": {
    "slideshow": {
     "slide_type": "notes"
    }
   },
   "source": [
    "Ici, faire une démo de l'écriture d'un programme dans VS Code avec exécution du programme.  \n",
    "Puis exécution du même programme avec le shell pour montrer qu'il se passe la même chose."
   ]
  },
  {
   "cell_type": "markdown",
   "metadata": {
    "slideshow": {
     "slide_type": "slide"
    }
   },
   "source": [
    "## 1. Utilité des fonctions en programmation\n",
    "\n",
    "\n",
    "Quand on écrit un code il est très fréquent d'utiliser la même fonctionnalité plusieurs fois. \n",
    "Quand ces fonctionnalités sont très communes, la librairie standard de Python ou des librairies externes vont vous fournir des fonctions déjà codées. Nous avons par exemple vu les fonctions `capitalize`, `random.randint` ou `math.cos`.\n",
    "\n",
    "\n",
    "Par ailleurs les fonctions permettent de découper le code en petites unités compréhensibles et indépendantes, ce qui le rend plus facile à comprendre et analyser.\n"
   ]
  },
  {
   "cell_type": "code",
   "execution_count": 6,
   "metadata": {
    "slideshow": {
     "slide_type": "subslide"
    }
   },
   "outputs": [],
   "source": [
    "#exemple de code pour lequel une fonction est utile car on l'appelle plusieurs fois\n",
    "\n",
    "ef crypte(chaine, cle):\n",
    "    \"\"\" Retourne une chaîne de caractères cryptée en décalant chaque lettre de chaine par l'entdier cle\"\"\" \n",
    "    res = ''\n",
    "    for i in range(len(chaine)):\n",
    "        res += chr(ord(chaine[i]) + cle)\n",
    "    return res\n",
    "\n",
    "#rien ne s'affiche à l'exécution: on a définit une fonction mais aucune instruction n'a été exécutée"
   ]
  },
  {
   "cell_type": "code",
   "execution_count": 9,
   "metadata": {},
   "outputs": [
    {
     "name": "stdout",
     "output_type": "stream",
     "text": [
      "Help on built-in function chr in module builtins:\n",
      "\n",
      "chr(i, /)\n",
      "    Return a Unicode string of one character with ordinal i; 0 <= i <= 0x10ffff.\n",
      "\n",
      "Help on built-in function ord in module builtins:\n",
      "\n",
      "ord(c, /)\n",
      "    Return the Unicode code point for a one-character string.\n",
      "\n",
      "Help on function crypte in module __main__:\n",
      "\n",
      "crypte(chaine, cle)\n",
      "    Retourne une chaîne de caractères cryptée en décalant chaque lettre de l'entier cle\n",
      "\n"
     ]
    }
   ],
   "source": [
    "#pour comprendre ce que font des fonctions inconnus, utiliser help    \n",
    "#cela affiche le docstring de la fonction\n",
    "help(chr)\n",
    "help(ord)\n",
    "help(crypte)"
   ]
  },
  {
   "cell_type": "code",
   "execution_count": 7,
   "metadata": {
    "scrolled": true
   },
   "outputs": [
    {
     "output_type": "stream",
     "name": "stdout",
     "text": [
      "cpokpvs!kf!tvjt!njdibfm\nbonjour je suis michael\n"
     ]
    }
   ],
   "source": [
    "message_crypte = crypte(input(),1)\n",
    "print(message_crypte)\n",
    "message_decrypte = crypte(message_crypte, -1)\n",
    "print(message_decrypte)"
   ]
  },
  {
   "cell_type": "markdown",
   "metadata": {
    "slideshow": {
     "slide_type": "subslide"
    }
   },
   "source": [
    "En mathématique une fonction s'écrit f: x $\\rightarrow$ f(x).\n",
    "Il y a trois parties dans la fonction: f son *nom*, x son *argument* et \n",
    "*f(x)* son image (valeur/résultat).\n",
    "\n",
    "Quelques exemples que vous connaissez bien:\n",
    "* $f(x) = ax + b$\n",
    "* $f(x) = x^2$\n",
    "* $f(x) = 2^x$\n",
    "* $f(x) = |x|$\n",
    "* $f(x,y) = x + y$\n",
    "\n",
    "\n",
    "C'est la même chose quand on programme, une fonction associe à un argument\n",
    "un résultat. L'argument et le résultat peuvent être arbitrairement complexes (des tuples ou des fonctions par exemple)."
   ]
  },
  {
   "cell_type": "markdown",
   "metadata": {
    "slideshow": {
     "slide_type": "notes"
    }
   },
   "source": [
    "On peut donner des exemples de fonction dans d'autres cadres qui ne sont pas des méthématiques.\n",
    "Par exemple en cuisine, on peut définir les fonctions couper(aliment), mélanger(aliment1, aliment2) et cuire(aliment), trois fonctions bien utiles pour écrire une recette (= programme)."
   ]
  },
  {
   "cell_type": "markdown",
   "metadata": {
    "slideshow": {
     "slide_type": "slide"
    }
   },
   "source": [
    "## 2. Définir une fonction en Python\n",
    "---\n",
    "Syntaxe de déclaration d'une fonction (signature de la fonction):\n",
    "\n",
    "* Une fonction est introduite grâce au mot clé `def`\n",
    "* On indique ensuite son nom\n",
    "* On donne sa liste d'arguments entre parenthèse\n",
    "* On termine la ligne par `:`\n",
    "\n",
    "\n",
    "Notez que le type des arguments n'est pas précisé, contrairement à la plupart des langages\n",
    "de programmation. On peut donner une fonction comme argument à une autre fonction.\n"
   ]
  },
  {
   "cell_type": "code",
   "execution_count": 1,
   "metadata": {
    "slideshow": {
     "slide_type": "fragment"
    }
   },
   "outputs": [],
   "source": [
    "def multiplie(x,y):\n",
    "    pass"
   ]
  },
  {
   "cell_type": "markdown",
   "metadata": {
    "slideshow": {
     "slide_type": "notes"
    }
   },
   "source": [
    "Tester le code précédent avec ou sans `pass`. Il faut que le corps de la fonction soit non-vide."
   ]
  },
  {
   "cell_type": "markdown",
   "metadata": {
    "slideshow": {
     "slide_type": "subslide"
    }
   },
   "source": [
    "Le corps de la fonction est un bloc de code *indenté*, qui vient après sa déclaration. \n",
    "Il peut être précédé d'un commentaire, appelé *docstring* qui sert à générer une documentation automatique."
   ]
  },
  {
   "cell_type": "code",
   "execution_count": 5,
   "metadata": {
    "slideshow": {
     "slide_type": "fragment"
    }
   },
   "outputs": [
    {
     "output_type": "stream",
     "name": "stdout",
     "text": [
      "Help on function multiplie in module __main__:\n\nmultiplie(x)\n    Cette fonction multiplie son argument par 2 et l'affiche\n\n21\naaaaaaaaa\n"
     ]
    }
   ],
   "source": [
    "def multiplie(x):\n",
    "    \"\"\" Cette fonction multiplie son argument par 2 et l'affiche\"\"\"\n",
    "    print(x*3)\n",
    "\n",
    "help(multiplie)\n",
    "multiplie(7)\n",
    "multiplie(\"aaa\")"
   ]
  },
  {
   "cell_type": "code",
   "execution_count": 7,
   "metadata": {},
   "outputs": [
    {
     "output_type": "stream",
     "name": "stdout",
     "text": [
      "2\n"
     ]
    }
   ],
   "source": [
    "#Que fait ce code si on l'exécute ?\n",
    "\n",
    "def incremente(x):\n",
    "    x +=  1\n",
    "print(x)\n",
    "\n",
    "incremente(2)"
   ]
  },
  {
   "cell_type": "markdown",
   "metadata": {
    "slideshow": {
     "slide_type": "subslide"
    }
   },
   "source": [
    "Les fonctions retournent une **valeur**, celle donnée après le mot clé `return`.\n",
    "Même les fonctions qui n'ont pas d'instruction return, ou qui terminent en finissant d'exécuter le bloc de code\n",
    "sans atteindre un return, retournent la valeur `None`.\n",
    "\n",
    "**Attention**, une fonction termine dès qu'elle atteint le mot clé `return`."
   ]
  },
  {
   "cell_type": "code",
   "execution_count": 2,
   "metadata": {
    "slideshow": {
     "slide_type": "fragment"
    }
   },
   "outputs": [
    {
     "output_type": "stream",
     "name": "stdout",
     "text": [
      "<class 'int'> 1\n<class 'NoneType'> None\n"
     ]
    }
   ],
   "source": [
    "def avec_retour(x):\n",
    "    return x + 1\n",
    "\n",
    "def sans_retour(x):\n",
    "    x = x + 1\n",
    "    \n",
    "print(type(avec_retour(0)),avec_retour(0))\n",
    "print(type(sans_retour(0)),sans_retour(0))\n"
   ]
  },
  {
   "cell_type": "markdown",
   "metadata": {
    "slideshow": {
     "slide_type": "subslide"
    }
   },
   "source": [
    "En Python, on peut utiliser des types de retour complexes (contrairement à C par exemple).\n",
    "\n",
    "On peut par exemple renvoyer des tuples de valeurs, ce qui est souvent pratique."
   ]
  },
  {
   "cell_type": "code",
   "execution_count": null,
   "metadata": {
    "slideshow": {
     "slide_type": "fragment"
    }
   },
   "outputs": [],
   "source": [
    "def ordonne(a, b):\n",
    "    if a < b:\n",
    "        return a, b\n",
    "    else:\n",
    "        return b, a\n",
    "    \n",
    "ordonne(10, 5)"
   ]
  },
  {
   "cell_type": "markdown",
   "metadata": {
    "slideshow": {
     "slide_type": "slide"
    }
   },
   "source": [
    "## 3. Évaluation d'une fonction\n",
    "\n",
    "* les arguments sont des variables locales à la fonction\n",
    "* les arguments sont passés par référence sur l'objet donné en argument\n",
    "* le corps de la fonction est évalué comme un code normal et la fonction se termine soit à la fin du bloc de code, soit quand une instruction `return` est atteinte\n",
    "* la fonction peut appeler une autre fonction ou elle-même (récursivité)\n"
   ]
  },
  {
   "cell_type": "markdown",
   "metadata": {
    "slideshow": {
     "slide_type": "subslide"
    }
   },
   "source": [
    "On va illustrer l'appel de fonction en l'exécutant pas à pas grâce à:\n",
    "\n",
    "* [PythonTutor](http://pythontutor.com/visualize.html#mode=edit)\n",
    "* le debugger dans VS Code"
   ]
  },
  {
   "cell_type": "code",
   "execution_count": 3,
   "metadata": {
    "slideshow": {
     "slide_type": "subslide"
    }
   },
   "outputs": [
    {
     "output_type": "stream",
     "name": "stdout",
     "text": [
      "0\n"
     ]
    }
   ],
   "source": [
    "#Évaluation par référence, exécuter avec PythonTutor\n",
    "\n",
    "def incremente(x):\n",
    "    x += 1\n",
    "    \n",
    "y = 0\n",
    "incremente(y)\n",
    "print(y)\n"
   ]
  },
  {
   "cell_type": "code",
   "execution_count": 19,
   "metadata": {
    "slideshow": {
     "slide_type": "fragment"
    }
   },
   "outputs": [
    {
     "data": {
      "text/plain": [
       "[4, 5, 6]"
      ]
     },
     "execution_count": 19,
     "metadata": {},
     "output_type": "execute_result"
    }
   ],
   "source": [
    "# Référence sur une liste, on peut modifier son contenu  \n",
    "def incrementeListe(l):\n",
    "    for i in range(len(l)):\n",
    "        l[i] += 1\n",
    "\n",
    "l = [3,4,5]\n",
    "incrementeListe(l)\n",
    "l"
   ]
  },
  {
   "cell_type": "code",
   "execution_count": 4,
   "metadata": {},
   "outputs": [
    {
     "output_type": "execute_result",
     "data": {
      "text/plain": [
       "[3, 4, 5]"
      ]
     },
     "metadata": {},
     "execution_count": 4
    }
   ],
   "source": [
    "# Référence sur une liste, on ne peut pas modifier la liste elle même\n",
    "def supprimeListe(l):\n",
    "    l = []\n",
    "\n",
    "l = [3,4,5]\n",
    "supprimeListe(l)\n",
    "l"
   ]
  },
  {
   "cell_type": "markdown",
   "metadata": {
    "slideshow": {
     "slide_type": "subslide"
    }
   },
   "source": [
    "Les variables définies hors des fonctions sont globales et on peut les utiliser dans toutes les fonctions\n",
    "sauf si elles ont été redéfinies localement. \n",
    "\n",
    "Par contre on ne peut pas changer leur valeur à l'intérieur d'une fonction, sauf à spécifier dans la fonction\n",
    "que la variable est globale par le mot clé `global`.\n",
    " \n",
    "Il est *déconseillé* de faire usage de ce mot clé et des variables globales en général."
   ]
  },
  {
   "cell_type": "code",
   "execution_count": 5,
   "metadata": {
    "slideshow": {
     "slide_type": "fragment"
    }
   },
   "outputs": [
    {
     "output_type": "stream",
     "name": "stdout",
     "text": [
      "1\n4\n4\n8\n"
     ]
    }
   ],
   "source": [
    "x = 1\n",
    "print(x)\n",
    "\n",
    "def affiche():\n",
    "    print(x)\n",
    "    \n",
    "x += 3\n",
    "affiche()\n",
    "\n",
    "#def ajoute():\n",
    "#    x += 1\n",
    "\n",
    "def multiplie():\n",
    "    global x\n",
    "    x *= 2\n",
    "    \n",
    "#ajoute()\n",
    "print(x)\n",
    "multiplie()\n",
    "print(x)"
   ]
  },
  {
   "cell_type": "markdown",
   "metadata": {
    "slideshow": {
     "slide_type": "slide"
    }
   },
   "source": [
    "## 4. Représentation des arguments dans un appel de fonction\n",
    "\n",
    "On peut donner des valeurs par défaut aux arguments d'une fonction\n",
    "de la manière suivante `def ma_fonction(pays, age = 1, nom = \"toto\")`.\n",
    "\n",
    "Les variables ayant une valeur par défaut peuvent être omises.\n",
    "\n"
   ]
  },
  {
   "cell_type": "code",
   "execution_count": null,
   "metadata": {
    "slideshow": {
     "slide_type": "fragment"
    }
   },
   "outputs": [],
   "source": [
    "def ma_fonction(pays, age = 1, nom = \"toto\"):\n",
    "    print(nom,\" a \", age, \"ans et vit en \", pays)\n",
    "    \n",
    "ma_fonction(\"france\")\n",
    "ma_fonction(\"allemagne\", 18, \"kurt\")\n",
    "ma_fonction(\"italie\", 77)"
   ]
  },
  {
   "cell_type": "markdown",
   "metadata": {
    "slideshow": {
     "slide_type": "subslide"
    }
   },
   "source": [
    "On peut également donner les arguments dans le désordre en spécifiant leur nom."
   ]
  },
  {
   "cell_type": "code",
   "execution_count": null,
   "metadata": {
    "slideshow": {
     "slide_type": "fragment"
    }
   },
   "outputs": [],
   "source": [
    "ma_fonction(nom = \"kader\", age = 18, pays = \"algérie\")\n",
    "ma_fonction(\"france\", nom = \"sylvie\")"
   ]
  },
  {
   "cell_type": "markdown",
   "metadata": {
    "slideshow": {
     "slide_type": "notes"
    }
   },
   "source": [
    "Il est possible d'utiliser une liste d'arguments de taille variable. Néanmoins,\n",
    "ce sujet plus avancé et optionnel ne sera pas abordé en première année. \n"
   ]
  },
  {
   "cell_type": "markdown",
   "metadata": {
    "slideshow": {
     "slide_type": "slide"
    }
   },
   "source": [
    "## 5. Fonctions anonymes: lambda expressions\n",
    "\n",
    "Parfois on définit une fonction pour l'utiliser tout de suite comme argument d'une autre fonction.\n",
    "Dans ce cas, il est inutile de donner un nom à la fonction car on l'utilisera une seule fois. On peut la définir en utilisant le mot clé lambda."
   ]
  },
  {
   "cell_type": "code",
   "execution_count": null,
   "metadata": {
    "slideshow": {
     "slide_type": "fragment"
    }
   },
   "outputs": [],
   "source": [
    "g = lambda x: x*2  \n",
    "print(g(2))\n",
    "\n",
    "print((lambda x: x*2)(3))\n",
    "\n",
    "list(map(lambda x: x*2,range(10)))"
   ]
  },
  {
   "cell_type": "code",
   "execution_count": 28,
   "metadata": {},
   "outputs": [
    {
     "output_type": "error",
     "ename": "SyntaxError",
     "evalue": "invalid syntax (<ipython-input-28-26ef21a43744>, line 18)",
     "traceback": [
      "\u001b[1;36m  File \u001b[1;32m\"<ipython-input-28-26ef21a43744>\"\u001b[1;36m, line \u001b[1;32m18\u001b[0m\n\u001b[1;33m    temps = secondeEnTemps(TenmpsEnSeconde(temps))\u001b[0m\n\u001b[1;37m    ^\u001b[0m\n\u001b[1;31mSyntaxError\u001b[0m\u001b[1;31m:\u001b[0m invalid syntax\n"
     ]
    }
   ],
   "source": [
    "def tempsEnSeconde(temps):\n",
    "    \"\"\" Renvoie la valeur en seconde de temps donné\\\n",
    "         comme jour, heure, minute, seconde.\"\"\"\n",
    "    return temps[3] + temps[2]*60 + temps[1]*60*60 + temps[0]*60*60*24\n",
    "\n",
    "\n",
    "temps = (3, 23, 1, 34)\n",
    "print(type(temps))\n",
    "print(tempsEnSeconde(temps), \"secondes\")\n",
    "\n",
    "def secondeEnTemps(seconde):\n",
    "    \"\"\"Renvoie le temps (jour, heure, minute, seconde) qui correspond au nombre de seconde passé en argument\"\"\"\n",
    "    seconde // (24*60*60\n",
    "    ( seconde % (24*60*60)) // (60*60)\n",
    "    (( seconde % (24*60*60)) % (60*60)) // 60\n",
    "    ((( seconde % (24*60*60)) % (60*60)) % 60)\n",
    "        \n",
    "temps = secondeEnTemps(TenmpsEnSeconde(temps))\n",
    "print(temps[0],\"jours\",temps[1],\"heures\",temps[2],\"minutes\",temps[3],\"secondes\")"
   ]
  },
  {
   "cell_type": "code",
   "execution_count": 10,
   "metadata": {},
   "outputs": [],
   "source": [
    "def affichePluriel(mot, nbre):\n",
    "    if nbre == 0:\n",
    "        print(\"\", end=\"\")\n",
    "    elif nbre ==1:\n",
    "        print(nbre, mot, end=\" \")\n",
    "    elif nbre > 1:\n",
    "        print()"
   ]
  },
  {
   "cell_type": "code",
   "execution_count": 22,
   "metadata": {},
   "outputs": [
    {
     "output_type": "stream",
     "name": "stdout",
     "text": [
      "[4]\n[4, 13]\n[4, 13, 17]\n[4, 13, 17, 21]\n[4, 13, 17, 21, 27]\n[4, 13, 17, 21, 27, 31]\n[4, 13, 17, 21, 27, 31, 42]\n"
     ]
    }
   ],
   "source": [
    "liste = [4, 13, 42, 27, 31, 17, 21]\n",
    "res = []\n",
    "while len(liste) != 0:\n",
    "    x_min = min(liste)\n",
    "    res.append(x_min)\n",
    "    liste.remove(x_min)\n",
    "    print (res)"
   ]
  },
  {
   "cell_type": "code",
   "execution_count": 24,
   "metadata": {},
   "outputs": [
    {
     "output_type": "error",
     "ename": "SyntaxError",
     "evalue": "invalid syntax (<ipython-input-24-e52f19711d3d>, line 8)",
     "traceback": [
      "\u001b[1;36m  File \u001b[1;32m\"<ipython-input-24-e52f19711d3d>\"\u001b[1;36m, line \u001b[1;32m8\u001b[0m\n\u001b[1;33m    temps = secondeEnTemps(100000)\u001b[0m\n\u001b[1;37m    ^\u001b[0m\n\u001b[1;31mSyntaxError\u001b[0m\u001b[1;31m:\u001b[0m invalid syntax\n"
     ]
    }
   ],
   "source": [
    "def secondeEnTemps(seconde):\n",
    "    \"\"\"Renvoie le temps (jour, heure, minute, seconde) qui correspond au nombre de seconde passé en argument\"\"\"\n",
    "    seconde // (24*60*60\n",
    "    ( seconde % (24*60*60)) // (60*60)\n",
    "    (( seconde % (24*60*60)) % (60*60)) // 60\n",
    "    ((( seconde % (24*60*60)) % (60*60)) % 60)\n",
    "     \n",
    "temps = secondeEnTemps(100000)\n",
    "print(temps[0],\"jours\",temps[1],\"heures\",temps[2],\"minutes\",temps[3],\"secondes\")"
   ]
  },
  {
   "cell_type": "code",
   "execution_count": null,
   "metadata": {},
   "outputs": [],
   "source": []
  }
 ],
 "metadata": {
  "celltoolbar": "Diaporama",
  "kernelspec": {
   "display_name": "Python 3",
   "language": "python",
   "name": "python3"
  },
  "language_info": {
   "codemirror_mode": {
    "name": "ipython",
    "version": 3
   },
   "file_extension": ".py",
   "mimetype": "text/x-python",
   "name": "python",
   "nbconvert_exporter": "python",
   "pygments_lexer": "ipython3",
   "version": "3.8.5-final"
  }
 },
 "nbformat": 4,
 "nbformat_minor": 1
}